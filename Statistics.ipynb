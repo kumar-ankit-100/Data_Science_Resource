{
 "cells": [
  {
   "cell_type": "markdown",
   "id": "f6810be9-318b-440e-b368-463db830c5ea",
   "metadata": {},
   "source": [
    "Q= Generate a list of 100 integers containing values between 90 to 130 and store it in the variable `int_list`.\n",
    "After generating the list, find the following:\n",
    "\n",
    "  \n",
    "\n",
    "  (i) Write a Python function to calculate the mean of a given list of numbers.\n",
    "\n",
    "Create a function to find the median of a list of numbers.\n",
    "\n",
    "  \n",
    "\n",
    "  (ii) Develop a program to compute the mode of a list of integers.\n",
    "\n",
    "  \n",
    "\n",
    "  (iii) Implement a function to calculate the weighted mean of a list of values and their corresponding weights.\n",
    "\n",
    "  \n",
    "\n",
    "  (iv) Write a Python function to find the geometric mean of a list of positive numbers.\n",
    "\n",
    "  \n",
    "\n",
    "  (v) Create a program to calculate the harmonic mean of a list of values.\n",
    "\n",
    "  \n",
    "\n",
    "  (vi) Build a function to determine the midrange of a list of numbers (average of the minimum and maximum).\n",
    "\n",
    "  \n",
    "\n",
    "  (vii) Implement a Python program to find the trimmed mean of a list, excluding a certain percentage of\n",
    "outliers."
   ]
  },
  {
   "cell_type": "code",
   "execution_count": 1,
   "id": "87fef09f-f9d0-478b-966d-cfe0e63067cc",
   "metadata": {},
   "outputs": [],
   "source": [
    "int_list = range(90,131)\n"
   ]
  },
  {
   "cell_type": "code",
   "execution_count": 2,
   "id": "b9d613f3-a7f8-4137-abb1-c7cddddf35ec",
   "metadata": {},
   "outputs": [
    {
     "name": "stdout",
     "output_type": "stream",
     "text": [
      "Mean: 110.0\n"
     ]
    }
   ],
   "source": [
    "def calculate_mean(numbers):\n",
    "    return sum(numbers) / len(numbers)\n",
    "\n",
    "mean_value = calculate_mean(int_list)\n",
    "print(\"Mean:\", mean_value)\n"
   ]
  },
  {
   "cell_type": "code",
   "execution_count": 5,
   "id": "e1728955-d7cd-4be8-a90e-98a27a640f96",
   "metadata": {},
   "outputs": [
    {
     "name": "stdout",
     "output_type": "stream",
     "text": [
      "Median: 110\n"
     ]
    }
   ],
   "source": [
    "def calculate_median(numbers):\n",
    "    sorted_numbers = sorted(numbers)\n",
    "    n = len(sorted_numbers)\n",
    "    mid = n // 2\n",
    "    \n",
    "    if n % 2 == 0:  # If even number of elements\n",
    "        return (sorted_numbers[mid - 1] + sorted_numbers[mid]) / 2\n",
    "    else:\n",
    "        return sorted_numbers[mid]\n",
    "\n",
    "median_value = calculate_median(int_list)\n",
    "print(\"Median:\", median_value)\n"
   ]
  },
  {
   "cell_type": "code",
   "execution_count": 6,
   "id": "89f3d3d3-2cad-42e0-84c9-f1c1c201cb90",
   "metadata": {},
   "outputs": [
    {
     "name": "stdout",
     "output_type": "stream",
     "text": [
      "Weighted Mean: 96.0\n"
     ]
    }
   ],
   "source": [
    "def calculate_weighted_mean(values, weights):\n",
    "    weighted_sum = sum(val * weight for val, weight in zip(values, weights))\n",
    "    total_weight = sum(weights)\n",
    "    return weighted_sum / total_weight\n",
    "\n",
    "# Example weights (same size as int_list)\n",
    "weights = [ i for i in range (1,11)]\n",
    "weighted_mean_value = calculate_weighted_mean(int_list, weights)\n",
    "print(\"Weighted Mean:\", weighted_mean_value)\n"
   ]
  },
  {
   "cell_type": "code",
   "execution_count": 10,
   "id": "3c6f5e02-b41d-46c0-aadb-333c8a21a79c",
   "metadata": {},
   "outputs": [
    {
     "name": "stdout",
     "output_type": "stream",
     "text": [
      "Geometric Mean: 109.35877971754893\n"
     ]
    }
   ],
   "source": [
    "import math\n",
    "\n",
    "def calculate_geometric_mean(numbers):\n",
    "    product = 1\n",
    "    for num in numbers:\n",
    "        product *= num\n",
    "    return product ** (1 / len(numbers))\n",
    "\n",
    "geometric_mean_value = calculate_geometric_mean(int_list)\n",
    "print(\"Geometric Mean:\", geometric_mean_value)\n"
   ]
  },
  {
   "cell_type": "code",
   "execution_count": 11,
   "id": "c076c828-f44a-43af-a933-615ea6e3c5d9",
   "metadata": {},
   "outputs": [
    {
     "name": "stdout",
     "output_type": "stream",
     "text": [
      "Harmonic Mean: 108.71529513457254\n"
     ]
    }
   ],
   "source": [
    "def calculate_harmonic_mean(numbers):\n",
    "    return len(numbers) / sum(1 / num for num in numbers)\n",
    "\n",
    "harmonic_mean_value = calculate_harmonic_mean(int_list)\n",
    "print(\"Harmonic Mean:\", harmonic_mean_value)\n"
   ]
  },
  {
   "cell_type": "code",
   "execution_count": 12,
   "id": "32b28c5e-8d94-4f55-a631-6870f7248621",
   "metadata": {},
   "outputs": [
    {
     "name": "stdout",
     "output_type": "stream",
     "text": [
      "Trimmed Mean: 110.0\n"
     ]
    }
   ],
   "source": [
    "def calculate_trimmed_mean(numbers, percentage):\n",
    "    numbers_sorted = sorted(numbers)\n",
    "    trim_count = int(len(numbers) * (percentage / 100))\n",
    "    \n",
    "    # Trim the outliers\n",
    "    trimmed_numbers = numbers_sorted[trim_count:-trim_count] if trim_count > 0 else numbers_sorted\n",
    "    return calculate_mean(trimmed_numbers)\n",
    "\n",
    "trimmed_mean_value = calculate_trimmed_mean(int_list, 10)  # Trimming 10% from both ends\n",
    "print(\"Trimmed Mean:\", trimmed_mean_value)\n"
   ]
  },
  {
   "cell_type": "code",
   "execution_count": null,
   "id": "9be4c420-ebc2-43af-82b5-f05284f33dcd",
   "metadata": {},
   "outputs": [],
   "source": []
  },
  {
   "cell_type": "markdown",
   "id": "7b85cb8b-bfc6-4132-b16d-bdc6243ea973",
   "metadata": {},
   "source": [
    "2. Generate a list of 500 integers containing values between 200 to 300 and store it in the variable `int_list2`.\n",
    "After generating the list, find the following:\n",
    "\n",
    "\n",
    "  (i) Compare the given list of visualization for the given data:\n",
    "\n",
    "    \n",
    "\n",
    "    1. Frequency & Gaussian distribution\n",
    "\n",
    "    2. Frequency smoothened KDE plot\n",
    "\n",
    "    3. Gaussian distribution & smoothened KDE plot\n",
    "\n",
    "\n",
    "  (ii) Write a Python function to calculate the range of a given list of numbers.\n",
    "\n",
    "\n",
    "  (iii) Create a program to find the variance and standard deviation of a list of numbers.\n",
    "\n",
    "\n",
    "  (iv) Implement a function to compute the interquartile range (IQR) of a list of values.\n",
    "\n",
    "\n",
    "  (v) Build a program to calculate the coefficient of variation for a dataset.\n",
    "\n",
    "  \n",
    "\n",
    "  (vi) Write a Python function to find the mean absolute deviation (MAD) of a list of numbers.\n",
    "\n",
    "\n",
    "  (vii) Create a program to calculate the quartile deviation of a list of values.\n",
    "\n",
    "  \n",
    "\n",
    "  (viii) Implement a function to find the range-based coefficient of dispersion for a dataset."
   ]
  },
  {
   "cell_type": "code",
   "execution_count": 21,
   "id": "a10bf1e7-3f53-4d8c-aaa5-6abaaaf4ead7",
   "metadata": {
    "scrolled": true
   },
   "outputs": [
    {
     "name": "stdout",
     "output_type": "stream",
     "text": [
      "Collecting seaborn\n",
      "  Downloading seaborn-0.13.2-py3-none-any.whl.metadata (5.4 kB)\n",
      "Requirement already satisfied: numpy!=1.24.0,>=1.20 in /home/SM/Desktop/machine-learning/Assignment/jupyter_env/lib/python3.8/site-packages (from seaborn) (1.24.4)\n",
      "Requirement already satisfied: pandas>=1.2 in /home/SM/Desktop/machine-learning/Assignment/jupyter_env/lib/python3.8/site-packages (from seaborn) (2.0.3)\n",
      "Collecting matplotlib!=3.6.1,>=3.4 (from seaborn)\n",
      "  Using cached matplotlib-3.7.5-cp38-cp38-manylinux_2_12_x86_64.manylinux2010_x86_64.whl.metadata (5.7 kB)\n",
      "Collecting contourpy>=1.0.1 (from matplotlib!=3.6.1,>=3.4->seaborn)\n",
      "  Using cached contourpy-1.1.1-cp38-cp38-manylinux_2_17_x86_64.manylinux2014_x86_64.whl.metadata (5.9 kB)\n",
      "Collecting cycler>=0.10 (from matplotlib!=3.6.1,>=3.4->seaborn)\n",
      "  Using cached cycler-0.12.1-py3-none-any.whl.metadata (3.8 kB)\n",
      "Collecting fonttools>=4.22.0 (from matplotlib!=3.6.1,>=3.4->seaborn)\n",
      "  Using cached fonttools-4.55.8-cp38-cp38-manylinux_2_17_x86_64.manylinux2014_x86_64.whl.metadata (101 kB)\n",
      "Collecting kiwisolver>=1.0.1 (from matplotlib!=3.6.1,>=3.4->seaborn)\n",
      "  Using cached kiwisolver-1.4.7-cp38-cp38-manylinux_2_5_x86_64.manylinux1_x86_64.whl.metadata (6.3 kB)\n",
      "Requirement already satisfied: packaging>=20.0 in /home/SM/Desktop/machine-learning/Assignment/jupyter_env/lib/python3.8/site-packages (from matplotlib!=3.6.1,>=3.4->seaborn) (24.2)\n",
      "Collecting pillow>=6.2.0 (from matplotlib!=3.6.1,>=3.4->seaborn)\n",
      "  Using cached pillow-10.4.0-cp38-cp38-manylinux_2_17_x86_64.manylinux2014_x86_64.whl.metadata (9.2 kB)\n",
      "Collecting pyparsing>=2.3.1 (from matplotlib!=3.6.1,>=3.4->seaborn)\n",
      "  Using cached pyparsing-3.1.4-py3-none-any.whl.metadata (5.1 kB)\n",
      "Requirement already satisfied: python-dateutil>=2.7 in /home/SM/Desktop/machine-learning/Assignment/jupyter_env/lib/python3.8/site-packages (from matplotlib!=3.6.1,>=3.4->seaborn) (2.9.0.post0)\n",
      "Requirement already satisfied: importlib-resources>=3.2.0 in /home/SM/Desktop/machine-learning/Assignment/jupyter_env/lib/python3.8/site-packages (from matplotlib!=3.6.1,>=3.4->seaborn) (6.4.5)\n",
      "Requirement already satisfied: pytz>=2020.1 in /home/SM/Desktop/machine-learning/Assignment/jupyter_env/lib/python3.8/site-packages (from pandas>=1.2->seaborn) (2025.1)\n",
      "Requirement already satisfied: tzdata>=2022.1 in /home/SM/Desktop/machine-learning/Assignment/jupyter_env/lib/python3.8/site-packages (from pandas>=1.2->seaborn) (2025.1)\n",
      "Requirement already satisfied: zipp>=3.1.0 in /home/SM/Desktop/machine-learning/Assignment/jupyter_env/lib/python3.8/site-packages (from importlib-resources>=3.2.0->matplotlib!=3.6.1,>=3.4->seaborn) (3.20.2)\n",
      "Requirement already satisfied: six>=1.5 in /home/SM/Desktop/machine-learning/Assignment/jupyter_env/lib/python3.8/site-packages (from python-dateutil>=2.7->matplotlib!=3.6.1,>=3.4->seaborn) (1.17.0)\n",
      "Downloading seaborn-0.13.2-py3-none-any.whl (294 kB)\n",
      "Using cached matplotlib-3.7.5-cp38-cp38-manylinux_2_12_x86_64.manylinux2010_x86_64.whl (9.2 MB)\n",
      "Using cached contourpy-1.1.1-cp38-cp38-manylinux_2_17_x86_64.manylinux2014_x86_64.whl (301 kB)\n",
      "Using cached cycler-0.12.1-py3-none-any.whl (8.3 kB)\n",
      "Using cached fonttools-4.55.8-cp38-cp38-manylinux_2_17_x86_64.manylinux2014_x86_64.whl (4.7 MB)\n",
      "Using cached kiwisolver-1.4.7-cp38-cp38-manylinux_2_5_x86_64.manylinux1_x86_64.whl (1.2 MB)\n",
      "Using cached pillow-10.4.0-cp38-cp38-manylinux_2_17_x86_64.manylinux2014_x86_64.whl (4.4 MB)\n",
      "Using cached pyparsing-3.1.4-py3-none-any.whl (104 kB)\n",
      "Installing collected packages: pyparsing, pillow, kiwisolver, fonttools, cycler, contourpy, matplotlib, seaborn\n",
      "Successfully installed contourpy-1.1.1 cycler-0.12.1 fonttools-4.55.8 kiwisolver-1.4.7 matplotlib-3.7.5 pillow-10.4.0 pyparsing-3.1.4 seaborn-0.13.2\n",
      "Note: you may need to restart the kernel to use updated packages.\n"
     ]
    }
   ],
   "source": [
    "pip install seaborn"
   ]
  },
  {
   "cell_type": "code",
   "execution_count": 7,
   "id": "2142d16b-7fb1-4687-b58c-d8777ef4d1f8",
   "metadata": {
    "scrolled": true
   },
   "outputs": [],
   "source": [
    "import random\n",
    "import numpy as np \n",
    "import pandas as pd \n",
    "import seaborn as sns\n",
    "int_list2 =   [random.randint(200,300) for _ in range(500)]\n"
   ]
  },
  {
   "cell_type": "code",
   "execution_count": 8,
   "id": "ce4ac7e4-1877-46ee-94c7-9e93b079a2ca",
   "metadata": {},
   "outputs": [
    {
     "data": {
      "image/png": "[encoded data removed]",
      "text/plain": [
       "<Figure size 640x480 with 1 Axes>"
      ]
     },
     "metadata": {},
     "output_type": "display_data"
    }
   ],
   "source": [
    "import matplotlib.pyplot as plt\n",
    "\n",
    "plt.hist(int_list2, edgecolor='black')\n",
    "\n",
    "# Display the histogram\n",
    "plt.title('Frequency Distribution of Data')\n",
    "plt.xlabel('Value Range')\n",
    "plt.ylabel('Frequency')\n",
    "plt.show()\n"
   ]
  },
  {
   "cell_type": "code",
   "execution_count": 10,
   "id": "d981daee-0eb8-47ba-9e5e-9d742b4281b8",
   "metadata": {},
   "outputs": [
    {
     "name": "stdout",
     "output_type": "stream",
     "text": [
      "Collecting scipy\n",
      "  Using cached scipy-1.10.1-cp38-cp38-manylinux_2_17_x86_64.manylinux2014_x86_64.whl.metadata (58 kB)\n",
      "Requirement already satisfied: numpy<1.27.0,>=1.19.5 in /home/SM/Desktop/machine-learning/Assignment/jupyter_env/lib/python3.8/site-packages (from scipy) (1.24.4)\n",
      "Using cached scipy-1.10.1-cp38-cp38-manylinux_2_17_x86_64.manylinux2014_x86_64.whl (34.5 MB)\n",
      "Installing collected packages: scipy\n",
      "Successfully installed scipy-1.10.1\n",
      "Note: you may need to restart the kernel to use updated packages.\n"
     ]
    }
   ],
   "source": [
    "pip install scipy\n"
   ]
  },
  {
   "cell_type": "code",
   "execution_count": 59,
   "id": "14064686-3352-42e5-b54b-6b219782381c",
   "metadata": {},
   "outputs": [
    {
     "data": {
      "image/png": "[encoded data removed]",
      "text/plain": [
       "<Figure size 1000x500 with 2 Axes>"
      ]
     },
     "metadata": {},
     "output_type": "display_data"
    }
   ],
   "source": [
    "import numpy as np\n",
    "import matplotlib.pyplot as plt\n",
    "from scipy.stats import norm\n",
    "\n",
    "# Step 1: Generate normally distributed data\n",
    "mean = np.mean(int_list2)\n",
    "std_dev = np.std(int_list2)\n",
    "num_samples = len(int_list2)\n",
    "data = np.random.normal(mean, std_dev, num_samples)\n",
    "\n",
    "\n",
    "# # Step 2: Plot histogram\n",
    "plt.figure(figsize=(10, 5))\n",
    "plt.subplot(1,2,1)\n",
    "sns.histplot(data , kde = True , label = 'using seaborn')\n",
    "plt.subplot(1,2,2)\n",
    "plt.hist(data, bins=30, density=True, label=\"Histogram\")\n",
    "\n",
    "# # Step 3: Plot Gaussian distribution\n",
    "xmin, xmax = plt.xlim()\n",
    "x = np.linspace(xmin, xmax, 80)\n",
    "pdf = norm.pdf(x, mean, std_dev)\n",
    "# print(pdf)\n",
    "plt.plot(x, pdf,  label=\"Gaussian Distribution\")\n",
    "\n",
    "# Step 4: Finalize the plot\n",
    "plt.xlabel(\"Value\")\n",
    "plt.ylabel(\"Density\")\n",
    "plt.title(\"Histogram with Gaussian Distribution\")\n",
    "plt.legend()\n",
    "plt.show()\n"
   ]
  },
  {
   "cell_type": "code",
   "execution_count": 61,
   "id": "a8d6c872-ed5e-452b-adc2-93825dd187a8",
   "metadata": {},
   "outputs": [
    {
     "data": {
      "text/plain": [
       "<Axes: ylabel='Count'>"
      ]
     },
     "execution_count": 61,
     "metadata": {},
     "output_type": "execute_result"
    },
    {
     "data": {
      "image/png": "[encoded data removed]",
      "text/plain": [
       "<Figure size 640x480 with 1 Axes>"
      ]
     },
     "metadata": {},
     "output_type": "display_data"
    }
   ],
   "source": [
    "# 2. Frequency smoothened KDE plot\n",
    "sns.histplot(int_list2 , kde = True)"
   ]
  },
  {
   "cell_type": "code",
   "execution_count": 87,
   "id": "be390dc6-fead-4221-9aa2-78c24347f0bd",
   "metadata": {},
   "outputs": [
    {
     "data": {
      "text/plain": [
       "[<matplotlib.lines.Line2D at 0x7f916c3021f0>]"
      ]
     },
     "execution_count": 87,
     "metadata": {},
     "output_type": "execute_result"
    },
    {
     "data": {
      "image/png": "[encoded data removed]",
      "text/plain": [
       "<Figure size 640x480 with 1 Axes>"
      ]
     },
     "metadata": {},
     "output_type": "display_data"
    }
   ],
   "source": [
    "# 3. Gaussian distribution & smoothened KDE plot\n",
    "\n",
    "mean = np.mean(int_list2)\n",
    "std = np.std(int_list2)\n",
    "np.random.seed(40)\n",
    "\n",
    "\n",
    "\n",
    "x_axis = np.linspace(mean - 4*std, mean + 4*std, 500)\n",
    "pdf = norm.pdf(x_axis,mean , std)\n",
    "plt.plot(x_axis,pdf)\n"
   ]
  },
  {
   "cell_type": "code",
   "execution_count": null,
   "id": "05f16b40-8251-4f12-a149-e2a23b3b29a3",
   "metadata": {},
   "outputs": [],
   "source": [
    "  # (ii) Write a Python function to calculate the range of a given list of numbers.\n"
   ]
  },
  {
   "cell_type": "code",
   "execution_count": 88,
   "id": "5f855661-6238-4608-acd4-2fbca896775e",
   "metadata": {},
   "outputs": [
    {
     "name": "stdout",
     "output_type": "stream",
     "text": [
      "The range of the list is: 34\n"
     ]
    }
   ],
   "source": [
    "def calculate_range(numbers):\n",
    "    # Ensure the list is not empty\n",
    "    if not numbers:\n",
    "        return \"The list is empty!\"\n",
    "    \n",
    "    # Calculate the range: max - min\n",
    "    range_value = max(numbers) - min(numbers)\n",
    "    return range_value\n",
    "\n",
    "# Example usage:\n",
    "numbers = [15, 23, 8, 42, 31]\n",
    "result = calculate_range(numbers)\n",
    "print(f\"The range of the list is: {result}\")\n"
   ]
  },
  {
   "cell_type": "code",
   "execution_count": 89,
   "id": "43bbac02-29d5-4104-8290-84c7ac66d815",
   "metadata": {},
   "outputs": [
    {
     "name": "stdout",
     "output_type": "stream",
     "text": [
      "Variance: 142.16000000000003\n",
      "Standard Deviation: 11.923086848631105\n"
     ]
    }
   ],
   "source": [
    " # (iii) Create a program to find the variance and standard deviation of a list of numbers.\n",
    "import math\n",
    "\n",
    "def calculate_variance_and_std(numbers):\n",
    "    # Ensure the list is not empty\n",
    "    if not numbers:\n",
    "        return \"The list is empty!\"\n",
    "    \n",
    "    # Calculate the mean (average)\n",
    "    mean = sum(numbers) / len(numbers)\n",
    "    \n",
    "    # Calculate the variance\n",
    "    variance = sum((x - mean) ** 2 for x in numbers) / len(numbers)\n",
    "    \n",
    "    # Calculate the standard deviation (sqrt of variance)\n",
    "    std_deviation = math.sqrt(variance)\n",
    "    \n",
    "    return variance, std_deviation\n",
    "\n",
    "# Example usage:\n",
    "numbers = [15, 23, 8, 42, 31]\n",
    "variance, std_deviation = calculate_variance_and_std(numbers)\n",
    "print(f\"Variance: {variance}\")\n",
    "print(f\"Standard Deviation: {std_deviation}\")\n"
   ]
  },
  {
   "cell_type": "code",
   "execution_count": 90,
   "id": "11a221e9-da4b-499d-9a17-e0fc11da2f02",
   "metadata": {},
   "outputs": [
    {
     "name": "stdout",
     "output_type": "stream",
     "text": [
      "Interquartile Range (IQR): 16.0\n"
     ]
    }
   ],
   "source": [
    "  # (iv) Implement a function to compute the interquartile range (IQR) of a list of values.\n",
    "import numpy as np\n",
    "\n",
    "def calculate_iqr(numbers):\n",
    "    # Ensure the list is not empty\n",
    "    if not numbers:\n",
    "        return \"The list is empty!\"\n",
    "    \n",
    "    # Sort the numbers\n",
    "    sorted_numbers = sorted(numbers)\n",
    "    \n",
    "    # Calculate the 1st quartile (Q1) and the 3rd quartile (Q3)\n",
    "    Q1 = np.percentile(sorted_numbers, 25)\n",
    "    Q3 = np.percentile(sorted_numbers, 75)\n",
    "    \n",
    "    # Calculate the IQR (Q3 - Q1)\n",
    "    iqr = Q3 - Q1\n",
    "    \n",
    "    return iqr\n",
    "\n",
    "# Example usage:\n",
    "numbers = [15, 23, 8, 42, 31]\n",
    "iqr = calculate_iqr(numbers)\n",
    "print(f\"Interquartile Range (IQR): {iqr}\")\n"
   ]
  },
  {
   "cell_type": "code",
   "execution_count": 91,
   "id": "f909109b-92f3-4d69-b542-9e3a7c144f96",
   "metadata": {},
   "outputs": [
    {
     "name": "stdout",
     "output_type": "stream",
     "text": [
      "Coefficient of Variation (CV): 50.097003565676914%\n"
     ]
    }
   ],
   "source": [
    "  # (v) Build a program to calculate the coefficient of variation for a dataset.\n",
    "import math\n",
    "\n",
    "def calculate_cv(numbers):\n",
    "    # Ensure the list is not empty\n",
    "    if not numbers:\n",
    "        return \"The list is empty!\"\n",
    "    \n",
    "    # Calculate the mean\n",
    "    mean = sum(numbers) / len(numbers)\n",
    "    \n",
    "    # Calculate the standard deviation\n",
    "    variance = sum((x - mean) ** 2 for x in numbers) / len(numbers)\n",
    "    std_deviation = math.sqrt(variance)\n",
    "    \n",
    "    # Calculate the coefficient of variation\n",
    "    cv = (std_deviation / mean) * 100\n",
    "    \n",
    "    return cv\n",
    "\n",
    "# Example usage:\n",
    "numbers = [15, 23, 8, 42, 31]\n",
    "cv = calculate_cv(numbers)\n",
    "print(f\"Coefficient of Variation (CV): {cv}%\")\n"
   ]
  },
  {
   "cell_type": "code",
   "execution_count": 92,
   "id": "78b6435d-4a05-4299-9852-8c8f34b51e71",
   "metadata": {},
   "outputs": [
    {
     "name": "stdout",
     "output_type": "stream",
     "text": [
      "Mean Absolute Deviation (MAD): 10.16\n"
     ]
    }
   ],
   "source": [
    "  # (vi) Write a Python function to find the mean absolute deviation (MAD) of a list of numbers.\n",
    "def calculate_mad(numbers):\n",
    "    # Ensure the list is not empty\n",
    "    if not numbers:\n",
    "        return \"The list is empty!\"\n",
    "    \n",
    "    # Calculate the mean\n",
    "    mean = sum(numbers) / len(numbers)\n",
    "    \n",
    "    # Calculate the absolute deviations from the mean\n",
    "    absolute_deviations = [abs(x - mean) for x in numbers]\n",
    "    \n",
    "    # Calculate the Mean Absolute Deviation\n",
    "    mad = sum(absolute_deviations) / len(numbers)\n",
    "    \n",
    "    return mad\n",
    "\n",
    "# Example usage:\n",
    "numbers = [15, 23, 8, 42, 31]\n",
    "mad = calculate_mad(numbers)\n",
    "print(f\"Mean Absolute Deviation (MAD): {mad}\")\n"
   ]
  },
  {
   "cell_type": "code",
   "execution_count": 93,
   "id": "3a1e24a2-f4c2-47d6-bc01-05c8bfcc8d73",
   "metadata": {},
   "outputs": [
    {
     "name": "stdout",
     "output_type": "stream",
     "text": [
      "Quartile Deviation (QD): 8.0\n"
     ]
    }
   ],
   "source": [
    "  # (vii) Create a program to calculate the quartile deviation of a list of values.\n",
    "import numpy as np\n",
    "\n",
    "def calculate_quartile_deviation(numbers):\n",
    "    # Ensure the list is not empty\n",
    "    if not numbers:\n",
    "        return \"The list is empty!\"\n",
    "    \n",
    "    # Sort the numbers\n",
    "    sorted_numbers = sorted(numbers)\n",
    "    \n",
    "    # Calculate the 1st quartile (Q1) and 3rd quartile (Q3)\n",
    "    Q1 = np.percentile(sorted_numbers, 25)\n",
    "    Q3 = np.percentile(sorted_numbers, 75)\n",
    "    \n",
    "    # Calculate the quartile deviation\n",
    "    quartile_deviation = (Q3 - Q1) / 2\n",
    "    \n",
    "    return quartile_deviation\n",
    "\n",
    "# Example usage:\n",
    "numbers = [15, 23, 8, 42, 31]\n",
    "qd = calculate_quartile_deviation(numbers)\n",
    "print(f\"Quartile Deviation (QD): {qd}\")\n"
   ]
  },
  {
   "cell_type": "code",
   "execution_count": 95,
   "id": "42bc8c1b-a8c5-41db-b1c7-1e0afa06bfdf",
   "metadata": {},
   "outputs": [
    {
     "name": "stdout",
     "output_type": "stream",
     "text": [
      "Range-based Coefficient of Dispersion (RCD): 1.4285714285714286\n"
     ]
    }
   ],
   "source": [
    "  # (viii) Implement a function to find the range-based coefficient of dispersion for a dataset.\n",
    "def calculate_rcd(numbers):\n",
    "    # Ensure the list is not empty\n",
    "    if not numbers:\n",
    "        return \"The list is empty!\"\n",
    "    \n",
    "    # Calculate the range (difference between max and min)\n",
    "    data_range = max(numbers) - min(numbers)\n",
    "    \n",
    "    # Calculate the mean of the dataset\n",
    "    mean = sum(numbers) / len(numbers)\n",
    "    \n",
    "    # Calculate the Range-based Coefficient of Dispersion (RCD)\n",
    "    rcd = data_range / mean\n",
    "    \n",
    "    return rcd\n",
    "\n",
    "# Example usage:\n",
    "numbers = [15, 23, 8, 42, 31]\n",
    "rcd = calculate_rcd(numbers)\n",
    "print(f\"Range-based Coefficient of Dispersion (RCD): {rcd}\")\n"
   ]
  },
  {
   "cell_type": "code",
   "execution_count": 96,
   "id": "aef2ba47-7fd9-404e-952f-ea47c22fa920",
   "metadata": {},
   "outputs": [
    {
     "name": "stdout",
     "output_type": "stream",
     "text": [
      "Expected Value: 2.9000000000000004\n",
      "Variance: 0.8899999999999988\n"
     ]
    }
   ],
   "source": [
    "# 3.  Write a Python class representing a discrete random variable with methods to calculate its expected\n",
    "# value and variance.\n",
    "class DiscreteRandomVariable:\n",
    "    def __init__(self, values, probabilities):\n",
    "        \"\"\"\n",
    "        Initialize the discrete random variable with its values and probabilities.\n",
    "        \n",
    "        :param values: A list of values that the random variable can take.\n",
    "        :param probabilities: A list of probabilities associated with each value.\n",
    "        \"\"\"\n",
    "        if len(values) != len(probabilities):\n",
    "            raise ValueError(\"Values and probabilities must have the same length.\")\n",
    "        \n",
    "        if not all(0 <= p <= 1 for p in probabilities) or sum(probabilities) != 1:\n",
    "            raise ValueError(\"Probabilities must be between 0 and 1, and their sum must equal 1.\")\n",
    "        \n",
    "        self.values = values\n",
    "        self.probabilities = probabilities\n",
    "\n",
    "    def expected_value(self):\n",
    "        \"\"\"\n",
    "        Calculate the expected value of the discrete random variable.\n",
    "        \n",
    "        :return: The expected value (mean).\n",
    "        \"\"\"\n",
    "        return sum(x * p for x, p in zip(self.values, self.probabilities))\n",
    "\n",
    "    def variance(self):\n",
    "        \"\"\"\n",
    "        Calculate the variance of the discrete random variable.\n",
    "        \n",
    "        :return: The variance.\n",
    "        \"\"\"\n",
    "        expected_val = self.expected_value()\n",
    "        expected_val_squared = sum((x ** 2) * p for x, p in zip(self.values, self.probabilities))\n",
    "        return expected_val_squared - expected_val ** 2\n",
    "\n",
    "# Example usage:\n",
    "values = [1, 2, 3, 4]\n",
    "probabilities = [0.1, 0.2, 0.4, 0.3]\n",
    "\n",
    "# Creating an instance of the DiscreteRandomVariable class\n",
    "random_variable = DiscreteRandomVariable(values, probabilities)\n",
    "\n",
    "# Calculating the expected value and variance\n",
    "expected_val = random_variable.expected_value()\n",
    "variance_val = random_variable.variance()\n",
    "\n",
    "print(f\"Expected Value: {expected_val}\")\n",
    "print(f\"Variance: {variance_val}\")\n"
   ]
  },
  {
   "cell_type": "code",
   "execution_count": 97,
   "id": "b6a01cad-e788-43c9-a38b-f95980c161c8",
   "metadata": {},
   "outputs": [
    {
     "name": "stdout",
     "output_type": "stream",
     "text": [
      "Expected Value (E[X]): 3.5\n",
      "Expected Value of X^2 (E[X^2]): 15.166666666666666\n",
      "Variance (Var[X]): 2.916666666666666\n"
     ]
    }
   ],
   "source": [
    "# 4. Implement a program to simulate the rolling of a fair six-sided die and calculate the expected value and\n",
    "# variance of the outcomes.\n",
    "import numpy as np\n",
    "\n",
    "# Simulating the rolling of a fair six-sided die\n",
    "# Possible outcomes of a fair six-sided die\n",
    "outcomes = np.array([1, 2, 3, 4, 5, 6])\n",
    "\n",
    "# Probability of each outcome (equal for a fair die)\n",
    "probabilities = np.array([1/6] * 6)\n",
    "\n",
    "# Expected Value (E[X]) - weighted average of outcomes\n",
    "expected_value = np.sum(outcomes * probabilities)\n",
    "print(f\"Expected Value (E[X]): {expected_value}\")\n",
    "\n",
    "# Expected Value of X^2 (E[X^2])\n",
    "expected_value_of_square = np.sum((outcomes ** 2) * probabilities)\n",
    "print(f\"Expected Value of X^2 (E[X^2]): {expected_value_of_square}\")\n",
    "\n",
    "# Variance (Var[X]) = E[X^2] - (E[X])^2\n",
    "variance = expected_value_of_square - (expected_value ** 2)\n",
    "print(f\"Variance (Var[X]): {variance}\")\n"
   ]
  },
  {
   "cell_type": "code",
   "execution_count": null,
   "id": "bd8a08e9-cde6-4256-9efe-7b3324515189",
   "metadata": {},
   "outputs": [],
   "source": [
    "# 5. Create a Python function to generate random samples from a given probability distribution (e.g.,\n",
    "# binomial, Poisson) and calculate their mean and variance.\n",
    "import numpy as np\n",
    "\n",
    "def generate_random_samples(dist_type, params, sample_size=1000):\n",
    "    \"\"\"\n",
    "    Generate random samples from a given distribution and calculate mean and variance.\n",
    "    \n",
    "    Parameters:\n",
    "    - dist_type: str, type of distribution ('binomial' or 'poisson')\n",
    "    - params: tuple, parameters required for the distribution (e.g., (n, p) for binomial or (lam,) for poisson)\n",
    "    - sample_size: int, number of samples to generate\n",
    "    \n",
    "    Returns:\n",
    "    - mean: float, mean of the generated samples\n",
    "    - variance: float, variance of the generated samples\n",
    "    \"\"\"\n",
    "    \n",
    "    # Generate random samples based on the specified distribution type\n",
    "    if dist_type == 'binomial':\n",
    "        n, p = params  # Number of trials (n), probability of success (p)\n",
    "        samples = np.random.binomial(n, p, sample_size)\n",
    "    elif dist_type == 'poisson':\n",
    "        lam = params[0]  # Rate (lambda) for Poisson distribution\n",
    "        samples = np.random.poisson(lam, sample_size)\n",
    "    else:\n",
    "        raise ValueError(\"Unsupported distribution type. Use 'binomial' or 'poisson'.\")\n",
    "    \n",
    "    # Calculate mean and variance\n",
    "    mean = np.mean(samples)\n",
    "    variance = np.var(samples)\n",
    "    \n",
    "    return mean, variance\n",
    "\n",
    "\n",
    "# Example: Generate random samples for Binomial distribution\n",
    "n_binomial = 10  # Number of trials\n",
    "p_binomial = 0.5  # Probability of success\n",
    "mean_binomial, var_binomial = generate_random_samples('binomial', (n_binomial, p_binomial))\n",
    "print(f\"Binomial Distribution - Mean: {mean_binomial}, Variance: {var_binomial}\")\n",
    "\n",
    "# Example: Generate random samples for Poisson distribution\n",
    "lam_poisson = 5  # Rate (lambda)\n",
    "mean_poisson, var_poisson = generate_random_samples('poisson', (lam_poisson,))\n",
    "print(f\"Poisson Distribution - Mean: {mean_poisson}, Variance: {var_poisson}\")\n"
   ]
  },
  {
   "cell_type": "code",
   "execution_count": 98,
   "id": "8e5169ba-2a71-47d3-ab76-22f1a0e54207",
   "metadata": {},
   "outputs": [
    {
     "name": "stdout",
     "output_type": "stream",
     "text": [
      "Generated 1000 random samples from Gaussian distribution:\n",
      "Mean: 0.04632942785495314\n",
      "Variance: 0.9880871162421118\n",
      "Standard Deviation: 0.994025712062878\n"
     ]
    }
   ],
   "source": [
    "# 6.Write a Python script to generate random numbers from a Gaussian (normal) distribution and compute\n",
    "# the mean, variance, and standard deviation of the samples.\n",
    "# Parameters for the normal distribution\n",
    "mean = 0        # Mean (mu)\n",
    "std_dev = 1     # Standard deviation (sigma)\n",
    "sample_size = 1000  # Number of random samples\n",
    "\n",
    "# Generate random samples from a normal distribution\n",
    "random_samples = np.random.normal(loc=mean, scale=std_dev, size=sample_size)\n",
    "\n",
    "# Compute mean, variance, and standard deviation\n",
    "calculated_mean = np.mean(random_samples)\n",
    "calculated_variance = np.var(random_samples)\n",
    "calculated_std_dev = np.std(random_samples)\n",
    "\n",
    "# Print the results\n",
    "print(f\"Generated {sample_size} random samples from Gaussian distribution:\")\n",
    "print(f\"Mean: {calculated_mean}\")\n",
    "print(f\"Variance: {calculated_variance}\")\n",
    "print(f\"Standard Deviation: {calculated_std_dev}\")"
   ]
  },
  {
   "cell_type": "code",
   "execution_count": null,
   "id": "dadb2cfb-913e-453f-ade6-1e33cddfe3cf",
   "metadata": {},
   "outputs": [],
   "source": []
  }
 ],
 "metadata": {
  "kernelspec": {
   "display_name": "Python 3 (ipykernel)",
   "language": "python",
   "name": "python3"
  },
  "language_info": {
   "codemirror_mode": {
    "name": "ipython",
    "version": 3
   },
   "file_extension": ".py",
   "mimetype": "text/x-python",
   "name": "python",
   "nbconvert_exporter": "python",
   "pygments_lexer": "ipython3",
   "version": "3.8.0"
  }
 },
 "nbformat": 4,
 "nbformat_minor": 5
}
