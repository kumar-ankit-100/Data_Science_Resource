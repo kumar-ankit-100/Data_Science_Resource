{
 "cells": [
  {
   "cell_type": "code",
   "execution_count": 195,
   "id": "d2c1242f-5c67-45a6-bbaa-f67e720d46ec",
   "metadata": {},
   "outputs": [
    {
     "name": "stdout",
     "output_type": "stream",
     "text": [
      "1.26.4\n"
     ]
    }
   ],
   "source": [
    "# pip install numpy\n",
    "import numpy as np\n",
    "print(np.__version__)"
   ]
  },
  {
   "cell_type": "code",
   "execution_count": 11,
   "id": "683c2211-b8a2-4fcc-947c-b89af5c17ce2",
   "metadata": {},
   "outputs": [
    {
     "data": {
      "text/plain": [
       "array([3. , 4. , 4.5, 5. ])"
      ]
     },
     "execution_count": 11,
     "metadata": {},
     "output_type": "execute_result"
    }
   ],
   "source": [
    "arr  = np.array([3,4,4.5,5])\n",
    "arr\n",
    "# type(arr)"
   ]
  },
  {
   "cell_type": "code",
   "execution_count": 192,
   "id": "1d5b000b-c736-4a64-bd59-22b9ef2cb071",
   "metadata": {},
   "outputs": [
    {
     "data": {
      "text/plain": [
       "0.5507979025745755"
      ]
     },
     "execution_count": 192,
     "metadata": {},
     "output_type": "execute_result"
    }
   ],
   "source": [
    "np.random.rand(2,\n",
    "               2,3)\n",
    "np.random.seed(3)\n",
    "np.random.rand()"
   ]
  },
  {
   "cell_type": "code",
   "execution_count": 197,
   "id": "9a82e8fe-6b9c-43d9-87e5-b30d43ba59bb",
   "metadata": {},
   "outputs": [
    {
     "name": "stdout",
     "output_type": "stream",
     "text": [
      "int32\n",
      "<U6\n"
     ]
    }
   ],
   "source": [
    "\n",
    "arr_num = np.array([1, 2, 3, 4])\n",
    "print(arr_num .dtype)\n",
    "arr_fruit = np.array(['apple', 'banana', 'cherry'])\n",
    "print(arr_fruit .dtype)"
   ]
  },
  {
   "cell_type": "code",
   "execution_count": 199,
   "id": "70b1ac8e-ab73-420e-ad7f-937fb09a7b4a",
   "metadata": {},
   "outputs": [
    {
     "name": "stdout",
     "output_type": "stream",
     "text": [
      "[ True False  True] [1 0 3]\n",
      "bool\n"
     ]
    }
   ],
   "source": [
    "arr = np.array([1, 0, 3])\n",
    "newarr_2 = arr.astype(bool)\n",
    "print(newarr_2 , arr)\n",
    "print(newarr_2.dtype)"
   ]
  },
  {
   "cell_type": "code",
   "execution_count": 206,
   "id": "745233c2-368b-4025-aa2e-b90eeb2f22c8",
   "metadata": {},
   "outputs": [
    {
     "name": "stdout",
     "output_type": "stream",
     "text": [
      "[7 8]\n",
      "[7 9]\n"
     ]
    }
   ],
   "source": [
    "original_array = np.array([7, 8, 9])\n",
    "# Creating a view using slicing\n",
    "sliced_array = original_array[:2]\n",
    "print(sliced_array)\n",
    "# Creating a view using indexing\n",
    "indexed_array = original_array[[0,2]]\n",
    "print(indexed_array)"
   ]
  },
  {
   "cell_type": "code",
   "execution_count": 207,
   "id": "2942e201-4ad5-462c-a38f-338bc74594c4",
   "metadata": {},
   "outputs": [
    {
     "name": "stdout",
     "output_type": "stream",
     "text": [
      "[[23 24]\n",
      " [26 27]]\n"
     ]
    }
   ],
   "source": [
    "original_array = np.array([[22, 23, 24], [25, 26, 27]])\n",
    "view_array = original_array[:, 1:]\n",
    "print(view_array)"
   ]
  },
  {
   "cell_type": "code",
   "execution_count": 219,
   "id": "fc87b197-c958-458e-a8f8-16fda6376373",
   "metadata": {},
   "outputs": [
    {
     "name": "stdout",
     "output_type": "stream",
     "text": [
      "[[[7 8]\n",
      "  [9 4]]\n",
      "\n",
      " [[2 2]\n",
      "  [3 4]]]\n"
     ]
    }
   ],
   "source": [
    "original_array = np.array([7, 8, 9,4 ,2 ,2 ,3,4])\n",
    "print(original_array.view().reshape(2,2,2))"
   ]
  },
  {
   "cell_type": "code",
   "execution_count": 222,
   "id": "01bc7d6b-e6f1-4b37-80a7-12c2848791f8",
   "metadata": {},
   "outputs": [
    {
     "name": "stdout",
     "output_type": "stream",
     "text": [
      "[[1 2 5]\n",
      " [3 4 6]]\n"
     ]
    }
   ],
   "source": [
    "array1 = np.array([[1, 2], [3, 4]])\n",
    "array2 = np.array([[5, 6]])\n",
    "print(np.concatenate((array1,array2.T),axis = 1))"
   ]
  },
  {
   "cell_type": "code",
   "execution_count": 232,
   "id": "ec469e04-6744-4269-ab2d-322c7e33a762",
   "metadata": {},
   "outputs": [
    {
     "name": "stdout",
     "output_type": "stream",
     "text": [
      "[1.00000000e+00 3.19926714e+00 1.02353102e+01 3.27454916e+01\n",
      " 1.04761575e+02 3.35160265e+02 1.07226722e+03 3.43046929e+03\n",
      " 1.09749877e+04 3.51119173e+04 1.12332403e+05 3.59381366e+05\n",
      " 1.14975700e+06 3.67837977e+06 1.17681195e+07 3.76493581e+07\n",
      " 1.20450354e+08 3.85352859e+08 1.23284674e+09 3.94420606e+09\n",
      " 1.26185688e+10 4.03701726e+10 1.29154967e+11 4.13201240e+11\n",
      " 1.32194115e+12 4.22924287e+12 1.35304777e+13 4.32876128e+13\n",
      " 1.38488637e+14 4.43062146e+14 1.41747416e+15 4.53487851e+15\n",
      " 1.45082878e+16 4.64158883e+16 1.48496826e+17 4.75081016e+17\n",
      " 1.51991108e+18 4.86260158e+18 1.55567614e+19 4.97702356e+19\n",
      " 1.59228279e+20 5.09413801e+20 1.62975083e+21 5.21400829e+21\n",
      " 1.66810054e+22 5.33669923e+22 1.70735265e+23 5.46227722e+23\n",
      " 1.74752840e+24 5.59081018e+24 1.78864953e+25 5.72236766e+25\n",
      " 1.83073828e+26 5.85702082e+26 1.87381742e+27 5.99484250e+27\n",
      " 1.91791026e+28 6.13590727e+28 1.96304065e+29 6.28029144e+29\n",
      " 2.00923300e+30 6.42807312e+30 2.05651231e+31 6.57933225e+31\n",
      " 2.10490414e+32 6.73415066e+32 2.15443469e+33 6.89261210e+33\n",
      " 2.20513074e+34 7.05480231e+34 2.25701972e+35 7.22080902e+35\n",
      " 2.31012970e+36 7.39072203e+36 2.36448941e+37 7.56463328e+37\n",
      " 2.42012826e+38 7.74263683e+38 2.47707636e+39 7.92482898e+39\n",
      " 2.53536449e+40 8.11130831e+40 2.59502421e+41 8.30217568e+41\n",
      " 2.65608778e+42 8.49753436e+42 2.71858824e+43 8.69749003e+43\n",
      " 2.78255940e+44 8.90215085e+44 2.84803587e+45 9.11162756e+45\n",
      " 2.91505306e+46 9.32603347e+46 2.98364724e+47 9.54548457e+47\n",
      " 3.05385551e+48 9.77009957e+48 3.12571585e+49 1.00000000e+50]\n"
     ]
    }
   ],
   "source": [
    "arange_array = np.logspace(0,50,100)\n",
    "print(arange_array)"
   ]
  },
  {
   "cell_type": "code",
   "execution_count": 233,
   "id": "0c43987e-8ea8-4496-bddd-2d19ed338390",
   "metadata": {},
   "outputs": [
    {
     "data": {
      "text/plain": [
       "array([[1., 0., 0., 0., 0.],\n",
       "       [0., 1., 0., 0., 0.],\n",
       "       [0., 0., 1., 0., 0.],\n",
       "       [0., 0., 0., 1., 0.],\n",
       "       [0., 0., 0., 0., 1.]])"
      ]
     },
     "execution_count": 233,
     "metadata": {},
     "output_type": "execute_result"
    }
   ],
   "source": [
    "np.eye(5)"
   ]
  },
  {
   "cell_type": "code",
   "execution_count": 234,
   "id": "62cab107-fe42-424f-891a-075d53bed7c8",
   "metadata": {},
   "outputs": [
    {
     "name": "stdout",
     "output_type": "stream",
     "text": [
      "[4 6 8]\n"
     ]
    }
   ],
   "source": [
    "a = np.array([1,3,4,5,6,8])\n",
    "print(a[a%2==0])"
   ]
  },
  {
   "cell_type": "code",
   "execution_count": 243,
   "id": "2a1f56ff-3e0f-419c-8ebb-d6c5cd71b18b",
   "metadata": {},
   "outputs": [
    {
     "name": "stdout",
     "output_type": "stream",
     "text": [
      "[[[ 0  1  2  3]\n",
      "  [ 4  5  6  7]\n",
      "  [ 8  9 10 11]]\n",
      "\n",
      " [[12 13 14 15]\n",
      "  [16 17 18 19]\n",
      "  [20 21 22 23]]]\n",
      "[[ 6 10]\n",
      " [18 22]]\n"
     ]
    }
   ],
   "source": [
    "arr_3d = np.arange(24).reshape(2, 3, 4)\n",
    "\n",
    "# Slicing along both dimensions\n",
    "\n",
    "sliced_array = arr_3d[:, 1:3, 2]\n",
    "print(arr_3d)\n",
    "\n",
    "print(sliced_array)"
   ]
  },
  {
   "cell_type": "code",
   "execution_count": 244,
   "id": "5a2859f2-65af-4b8d-b57b-ac1c6f3efe7d",
   "metadata": {},
   "outputs": [
    {
     "data": {
      "text/plain": [
       "array([[[0.78031476, 0.30636353, 0.22195788, 0.38797126],\n",
       "        [0.93638365, 0.97599542, 0.67238368, 0.90283411],\n",
       "        [0.84575087, 0.37799404, 0.09221701, 0.6534109 ]],\n",
       "\n",
       "       [[0.55784076, 0.36156476, 0.2250545 , 0.40651992],\n",
       "        [0.46894025, 0.26923558, 0.29179277, 0.4576864 ],\n",
       "        [0.86053391, 0.5862529 , 0.28348786, 0.27797751]]])"
      ]
     },
     "execution_count": 244,
     "metadata": {},
     "output_type": "execute_result"
    }
   ],
   "source": [
    "arr_3d = np.random.rand(2, 3, 4)\n",
    "arr_3d"
   ]
  }
 ],
 "metadata": {
  "kernelspec": {
   "display_name": "Python 3 (ipykernel)",
   "language": "python",
   "name": "python3"
  },
  "language_info": {
   "codemirror_mode": {
    "name": "ipython",
    "version": 3
   },
   "file_extension": ".py",
   "mimetype": "text/x-python",
   "name": "python",
   "nbconvert_exporter": "python",
   "pygments_lexer": "ipython3",
   "version": "3.12.6"
  }
 },
 "nbformat": 4,
 "nbformat_minor": 5
}
