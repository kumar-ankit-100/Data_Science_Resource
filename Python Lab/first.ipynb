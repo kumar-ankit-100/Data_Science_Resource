{
 "cells": [
  {
   "cell_type": "code",
   "execution_count": 4,
   "id": "48f8af14-7a01-4ba6-a6cd-b57cf066f06c",
   "metadata": {},
   "outputs": [
    {
     "data": {
      "text/plain": [
       "True"
      ]
     },
     "execution_count": 4,
     "metadata": {},
     "output_type": "execute_result"
    }
   ],
   "source": [
    "\"skills\" in \"pwskills\"\n",
    "\n"
   ]
  },
  {
   "cell_type": "code",
   "execution_count": 11,
   "id": "d100ff77-ca77-48b3-bf3e-ff386e4b7711",
   "metadata": {},
   "outputs": [
    {
     "name": "stdout",
     "output_type": "stream",
     "text": [
      "x is greater than 5\n"
     ]
    }
   ],
   "source": [
    "x = 6 \n",
    "if x > 5 :\n",
    "    print(\"x is greater than 5\")"
   ]
  },
  {
   "cell_type": "code",
   "execution_count": 12,
   "id": "e58cb9d4-9ef3-4ce2-9cc7-c41c1c6e3034",
   "metadata": {},
   "outputs": [
    {
     "name": "stdout",
     "output_type": "stream",
     "text": [
      "I like apple\n",
      "I like banana\n",
      "I like cherry\n"
     ]
    }
   ],
   "source": [
    "fruits = [\"apple\", \"banana\", \"cherry\"]\n",
    "\n",
    "\n",
    "for fruit in fruits:\n",
    "\n",
    "    print(\"I like\", fruit)"
   ]
  },
  {
   "cell_type": "code",
   "execution_count": 6,
   "id": "4e784381-4821-454d-b00a-8ba02b48800a",
   "metadata": {},
   "outputs": [
    {
     "data": {
      "text/plain": [
       "'ankit'"
      ]
     },
     "execution_count": 6,
     "metadata": {},
     "output_type": "execute_result"
    }
   ],
   "source": [
    "numbers = [1, 2, 3, 4, 5]\n",
    "numbers[3] = \"ankit\"\n",
    "numbers[3] \n"
   ]
  },
  {
   "cell_type": "code",
   "execution_count": 18,
   "id": "5dcab028-97ff-4c6b-b427-418b97b57da8",
   "metadata": {
    "scrolled": true
   },
   "outputs": [
    {
     "name": "stdout",
     "output_type": "stream",
     "text": [
      "blue\n",
      "green\n",
      "yellow\n",
      "red\n",
      "some\n"
     ]
    }
   ],
   "source": [
    "favorite_colors = {\"red\", \"blue\", \"green\", \"yellow\"}\n",
    "favorite_colors.add(\"some\")\n",
    "for color in favorite_colors:\n",
    "    print(color)"
   ]
  },
  {
   "cell_type": "code",
   "execution_count": 33,
   "id": "70fee894-0ea5-46ee-a7f3-3e37009357d5",
   "metadata": {},
   "outputs": [
    {
     "data": {
      "text/plain": [
       "[5, 4, 5, ' a']"
      ]
     },
     "execution_count": 33,
     "metadata": {},
     "output_type": "execute_result"
    }
   ],
   "source": [
    "from array import array\n",
    "a = array('f')\n",
    "a=[5,4,5,' a']\n",
    "a\n"
   ]
  },
  {
   "cell_type": "code",
   "execution_count": 55,
   "id": "84c7c440-3b2b-478c-9321-7ee92fc9a421",
   "metadata": {
    "scrolled": true
   },
   "outputs": [
    {
     "name": "stdout",
     "output_type": "stream",
     "text": [
      "['a', 'Page 2', 'Page 3', 'Page 4']\n",
      "dkf\n"
     ]
    },
    {
     "data": {
      "text/plain": [
       "['Page 1', 'Page 2', 'Page 3']"
      ]
     },
     "execution_count": 55,
     "metadata": {},
     "output_type": "execute_result"
    }
   ],
   "source": [
    "import copy\n",
    "original_book = [\"Page 1\", \"Page 2\", \"Page 3\"]\n",
    "\n",
    "photocopy = copy.copy(original_book)\n",
    "\n",
    "photocopy.append(\"Page 4\")\n",
    "photocopy[0]=\"a\"\n",
    "print(photocopy)\n",
    "print(\"dkf\")\n",
    "original_book"
   ]
  },
  {
   "cell_type": "code",
   "execution_count": 58,
   "id": "70e1cd47-a759-4d5c-a2ca-b76d6011592f",
   "metadata": {},
   "outputs": [
    {
     "data": {
      "text/plain": [
       "[20, 40, 60, 80, 100]"
      ]
     },
     "execution_count": 58,
     "metadata": {},
     "output_type": "execute_result"
    }
   ],
   "source": [
    "prices = [10, 20, 30, 40, 50]\n",
    "[2 * price for price in prices]"
   ]
  },
  {
   "cell_type": "code",
   "execution_count": 73,
   "id": "f659eb5a-e1fa-4128-a352-31c00da656d4",
   "metadata": {},
   "outputs": [
    {
     "name": "stdout",
     "output_type": "stream",
     "text": [
      "1 5\n",
      "2 6\n",
      "3 7\n",
      "4 8\n",
      "10 9\n"
     ]
    }
   ],
   "source": [
    "matrix_A = [1, 2, 3, 4 ,10  , 11]\n",
    "\n",
    "matrix_B = [5, 6,7, 8 ,9]\n",
    "for i , j in zip(matrix_A,matrix_B):\n",
    "    print(i , j)\n"
   ]
  },
  {
   "cell_type": "code",
   "execution_count": 77,
   "id": "df64f5ad-748e-4f87-850b-875d3e703c40",
   "metadata": {},
   "outputs": [
    {
     "ename": "AttributeError",
     "evalue": "'dict' object has no attribute 'view'",
     "output_type": "error",
     "traceback": [
      "\u001b[1;31m---------------------------------------------------------------------------\u001b[0m",
      "\u001b[1;31mAttributeError\u001b[0m                            Traceback (most recent call last)",
      "Cell \u001b[1;32mIn[77], line 12\u001b[0m\n\u001b[0;32m      1\u001b[0m recipe \u001b[38;5;241m=\u001b[39m {\n\u001b[0;32m      2\u001b[0m \n\u001b[0;32m      3\u001b[0m     \u001b[38;5;124m'\u001b[39m\u001b[38;5;124mflour\u001b[39m\u001b[38;5;124m'\u001b[39m: \u001b[38;5;124m'\u001b[39m\u001b[38;5;124m2 cups\u001b[39m\u001b[38;5;124m'\u001b[39m,\n\u001b[1;32m   (...)\u001b[0m\n\u001b[0;32m     10\u001b[0m \n\u001b[0;32m     11\u001b[0m }\n\u001b[1;32m---> 12\u001b[0m \u001b[43mrecipe\u001b[49m\u001b[38;5;241;43m.\u001b[39;49m\u001b[43mview\u001b[49m()\n",
      "\u001b[1;31mAttributeError\u001b[0m: 'dict' object has no attribute 'view'"
     ]
    }
   ],
   "source": [
    "recipe = {\n",
    "\n",
    "    'flour': '2 cups',\n",
    "\n",
    "    'sugar': '1 cup',\n",
    "\n",
    "    'eggs': '2',\n",
    "\n",
    "    'milk': '1/2 cup',\n",
    "\n",
    "}\n",
    "recipe.view()"
   ]
  },
  {
   "cell_type": "code",
   "execution_count": 79,
   "id": "e6d113a1-440e-4ed8-b482-8ed647d68761",
   "metadata": {},
   "outputs": [
    {
     "name": "stdout",
     "output_type": "stream",
     "text": [
      "Hi there from PWskills\n",
      "Hi there from PWskills\n"
     ]
    }
   ],
   "source": [
    "def greetings():\n",
    "\n",
    "    print('Hi there from PWskills')\n",
    "\n",
    "greetings()\n",
    "greetings()"
   ]
  },
  {
   "cell_type": "code",
   "execution_count": 101,
   "id": "c0a0af9d-e814-4520-ada1-ba4e7eef003d",
   "metadata": {},
   "outputs": [
    {
     "name": "stdout",
     "output_type": "stream",
     "text": [
      "[[1, 4], [9, 16], [25]]\n"
     ]
    }
   ],
   "source": [
    "numbers = [[1, 2] ,[3, 4],[ 5]]\n",
    "def square(x):\n",
    "    return x**2\n",
    "result = [list( map(square, i)) for i in numbers]\n",
    "print(result)"
   ]
  },
  {
   "cell_type": "code",
   "execution_count": 104,
   "id": "09829940-aa1d-49ab-bb04-36416876708f",
   "metadata": {},
   "outputs": [
    {
     "name": "stdout",
     "output_type": "stream",
     "text": [
      "<generator object countdown at 0x0000018A0BF10F40>\n",
      "5\n",
      "4\n",
      "3\n",
      "2\n",
      "1\n"
     ]
    }
   ],
   "source": [
    "def countdown(n):\n",
    "\n",
    "    while n > 0:\n",
    "\n",
    "        yield n\n",
    "\n",
    "        n -= 1\n",
    "\n",
    "\n",
    "# Using the generator for a countdown\n",
    "\n",
    "countdown_gen = countdown(5)\n",
    "print(countdown_gen)\n",
    "for number in countdown_gen:\n",
    "\n",
    "    print(number)"
   ]
  },
  {
   "cell_type": "code",
   "execution_count": null,
   "id": "fb1897cf-23a3-45ad-8c39-3ac72fcc6583",
   "metadata": {},
   "outputs": [],
   "source": []
  },
  {
   "cell_type": "code",
   "execution_count": null,
   "id": "2e07c6cc-a409-4fea-97db-eef7eb601e91",
   "metadata": {},
   "outputs": [],
   "source": []
  },
  {
   "cell_type": "code",
   "execution_count": null,
   "id": "e57d35dc-f045-4439-81d2-b17b0f01080e",
   "metadata": {},
   "outputs": [],
   "source": []
  },
  {
   "cell_type": "code",
   "execution_count": null,
   "id": "d1c43d5d-acf0-4d25-b964-05ff42fa46d2",
   "metadata": {},
   "outputs": [],
   "source": []
  }
 ],
 "metadata": {
  "kernelspec": {
   "display_name": "Python 3 (ipykernel)",
   "language": "python",
   "name": "python3"
  },
  "language_info": {
   "codemirror_mode": {
    "name": "ipython",
    "version": 3
   },
   "file_extension": ".py",
   "mimetype": "text/x-python",
   "name": "python",
   "nbconvert_exporter": "python",
   "pygments_lexer": "ipython3",
   "version": "3.12.6"
  }
 },
 "nbformat": 4,
 "nbformat_minor": 5
}
